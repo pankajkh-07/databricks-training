{
 "cells": [
  {
   "cell_type": "code",
   "execution_count": 0,
   "metadata": {
    "application/vnd.databricks.v1+cell": {
     "cellMetadata": {
      "byteLimit": 2048000,
      "implicitDf": true,
      "rowLimit": 10000
     },
     "inputWidgets": {},
     "nuid": "47e80b2b-2359-48a6-a654-90b83ba02697",
     "showTitle": true,
     "tableResultSettingsMap": {},
     "title": "Task - 1"
    }
   },
   "outputs": [],
   "source": [
    "%sql\n",
    "--1. Total Sales Amount by Each Customer\n",
    "--Use case: To find out which customers generate the most revenue.\n",
    "\n",
    "create or replace view workspace.gold.sales_by_customer as\n",
    "\n",
    "select customer_id, round(sum(total_amount),1) as total_sales from workspace.silver.sales_cleaned group by customer_id order by total_sales desc"
   ]
  },
  {
   "cell_type": "code",
   "execution_count": 0,
   "metadata": {
    "application/vnd.databricks.v1+cell": {
     "cellMetadata": {
      "byteLimit": 2048000,
      "implicitDf": true,
      "rowLimit": 10000
     },
     "inputWidgets": {},
     "nuid": "b2ac8ac6-80b6-408b-955f-7f84200a868d",
     "showTitle": true,
     "tableResultSettingsMap": {},
     "title": "Task  - 2"
    }
   },
   "outputs": [],
   "source": [
    "%sql\n",
    "--  Task 2. Top 3 Products by Total Quantity Sold\n",
    "-- Use case: Identify best-selling products.\n",
    "\n",
    "create or replace view workspace.gold.top_3_products_by_sales as\n",
    "select product_id, sum(quantity) as sold_products_quantity from workspace.silver.sales_cleaned group by product_id order by sold_products_quantity desc limit 3"
   ]
  },
  {
   "cell_type": "code",
   "execution_count": 0,
   "metadata": {
    "application/vnd.databricks.v1+cell": {
     "cellMetadata": {
      "byteLimit": 2048000,
      "implicitDf": true,
      "rowLimit": 10000
     },
     "inputWidgets": {},
     "nuid": "8f5d2472-ad82-43dd-b92c-94c17efe9d66",
     "showTitle": false,
     "tableResultSettingsMap": {},
     "title": ""
    }
   },
   "outputs": [],
   "source": [
    "%sql\n",
    "select * from gold.top_3_products_by_sales"
   ]
  }
 ],
 "metadata": {
  "application/vnd.databricks.v1+notebook": {
   "computePreferences": null,
   "dashboards": [],
   "environmentMetadata": {
    "base_environment": "",
    "environment_version": "2"
   },
   "inputWidgetPreferences": null,
   "language": "python",
   "notebookMetadata": {
    "mostRecentlyExecutedCommandWithImplicitDF": {
     "commandId": 7607668601594781,
     "dataframes": [
      "_sqldf"
     ]
    },
    "pythonIndentUnit": 4
   },
   "notebookName": "Day 10 - Gold - End2End Multihop",
   "widgets": {}
  },
  "language_info": {
   "name": "python"
  }
 },
 "nbformat": 4,
 "nbformat_minor": 0
}
